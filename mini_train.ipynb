{
 "cells": [
  {
   "cell_type": "code",
   "execution_count": 1,
   "metadata": {},
   "outputs": [],
   "source": [
    "import os\n",
    "import time\n",
    "import csv\n",
    "import yaml\n",
    "import torch\n",
    "import cv2\n",
    "import argparse\n",
    "import numpy as np\n",
    "\n",
    "from torch.utils.data import DataLoader\n",
    "import torch.backends.cudnn as cudnn\n",
    "import torch.optim\n",
    "from datetime import timedelta\n",
    "import pytorch_lightning as pl\n",
    "from pytorch_lightning.loggers import TensorBoardLogger\n",
    "from pytorch_lightning.callbacks import ModelCheckpoint\n",
    "from torchvision.transforms import Compose\n",
    "\n",
    "from experiment import DPT\n",
    "from util.callbacks import TensorCheckpoint\n",
    "from dpt.models import DPTDepthModel\n",
    "from dataloader.nyu_loader import NYUDataset\n"
   ]
  },
  {
   "cell_type": "code",
   "execution_count": 2,
   "metadata": {},
   "outputs": [],
   "source": [
    "import os\n",
    "\n",
    "os.environ[\"CUDA_VISIBLE_DEVICES\"]=\"0\"\n"
   ]
  },
  {
   "cell_type": "code",
   "execution_count": 3,
   "metadata": {},
   "outputs": [],
   "source": [
    "# parser = argparse.ArgumentParser(description='Generic runner model')\n",
    "# parser.add_argument('--config',  '-c',\n",
    "#                     dest=\"filename\",\n",
    "#                     metavar='FILE',\n",
    "#                     help =  'path to the config file',\n",
    "#                     default='config/train.yaml')\n",
    "\n",
    "config_path = \"config/train.yaml\"\n",
    "                    \n",
    "\n",
    "with open(config_path, 'r') as file:\n",
    "    try:\n",
    "        config = yaml.safe_load(file)\n",
    "    except yaml.YAMLError as exc:\n",
    "        print(exc)\n",
    "\n",
    "seed = 1234\n",
    "torch.manual_seed(seed)\n",
    "np.random.seed(seed)"
   ]
  },
  {
   "cell_type": "markdown",
   "metadata": {},
   "source": []
  },
  {
   "cell_type": "code",
   "execution_count": 4,
   "metadata": {},
   "outputs": [
    {
     "name": "stdout",
     "output_type": "stream",
     "text": [
      "DEVICE:  cuda\n"
     ]
    }
   ],
   "source": [
    "device = torch.device(\"cuda\" if torch.cuda.is_available() else \"cpu\")\n",
    "print(\"DEVICE: \", device)\n",
    "\n",
    "\n",
    "\n",
    "batch_size = config['experiment']['batch_size']\n",
    "epochs = config['experiment']['epochs']\n",
    "lr = config['experiment']['learning_rate']\n",
    "logs_path = config['experiment']['logs_path']\n",
    "\n",
    "net_w = 640\n",
    "net_h = 480"
   ]
  },
  {
   "cell_type": "code",
   "execution_count": 5,
   "metadata": {},
   "outputs": [
    {
     "name": "stdout",
     "output_type": "stream",
     "text": [
      "Found 1004 images in train folder.\n",
      "Found 1004 images in val folder.\n"
     ]
    }
   ],
   "source": [
    "train_dataset = NYUDataset(config['dataset']['data_path'], type='train')\n",
    "val_dataset = NYUDataset(config['dataset']['data_path'], type='val')\n",
    "\n",
    "train_loader = DataLoader(train_dataset, \n",
    "                            batch_size=config['experiment']['batch_size'], \n",
    "                            shuffle=True,\n",
    "                            prefetch_factor=10, # increase or decrease based on free gpu mem\n",
    "                            pin_memory=True,\n",
    "                            num_workers=4*torch.cuda.device_count() if torch.cuda.is_available() else 0)\n",
    "\n",
    "val_loader = DataLoader(val_dataset,\n",
    "                        batch_size=config['experiment']['batch_size'],\n",
    "                        prefetch_factor=10, # increase or decrease based on free gpu mem\n",
    "                        pin_memory=True,\n",
    "                        num_workers=4*torch.cuda.device_count() if torch.cuda.is_available() else 0)\n",
    "\n",
    " "
   ]
  },
  {
   "cell_type": "code",
   "execution_count": 6,
   "metadata": {},
   "outputs": [],
   "source": [
    "model = DPT(config)\n",
    "\n",
    "# logging setup\n",
    "logger = TensorBoardLogger(logs_path, \n",
    "                        name='finetune',\n",
    "                        log_graph=True)\n",
    "# checkpointing\n",
    "model_ckpt = ModelCheckpoint(every_n_epochs=5,\n",
    "                            save_top_k=-1,\n",
    "                            filename='dpt-finetune-{epoch}')\n"
   ]
  },
  {
   "cell_type": "code",
   "execution_count": 7,
   "metadata": {},
   "outputs": [
    {
     "name": "stderr",
     "output_type": "stream",
     "text": [
      "GPU available: True, used: True\n",
      "TPU available: False, using: 0 TPU cores\n",
      "IPU available: False, using: 0 IPUs\n"
     ]
    },
    {
     "name": "stdout",
     "output_type": "stream",
     "text": [
      "Training\n"
     ]
    }
   ],
   "source": [
    "if torch.cuda.is_available():\n",
    "    if torch.cuda.device_count() > 1:\n",
    "        if(config['model']['load_ckpt']):\n",
    "            path =config['model']['model_path']\n",
    "        else:\n",
    "            path=None\n",
    "        trainer = pl.Trainer(gpus=torch.cuda.device_count(), \n",
    "                            max_epochs=model.epochs,\n",
    "                            logger=logger,\n",
    "                            num_sanity_val_steps=0,\n",
    "                            progress_bar_refresh_rate=None if config['experiment']['verbose'] else 0)\n",
    "    else:\n",
    "        if(config['model']['load_ckpt']):\n",
    "            path =config['model']['model_path']\n",
    "        else:\n",
    "            path=None\n",
    "        trainer = pl.Trainer(resume_from_checkpoint=path,\n",
    "                                gpus=1,\n",
    "                                max_epochs=model.epochs,\n",
    "                                logger=logger,\n",
    "                                num_sanity_val_steps=0,\n",
    "                                progress_bar_refresh_rate=None if config['experiment']['verbose'] else 0)\n",
    "else:\n",
    "    trainer = pl.Trainer(max_epochs=1, logger=logger)\n",
    "    \n",
    "print('Training')\n"
   ]
  },
  {
   "cell_type": "code",
   "execution_count": 8,
   "metadata": {},
   "outputs": [],
   "source": [
    "import matplotlib.pyplot as plt\n",
    "\n",
    "cmap = plt.cm.viridis\n",
    "def colored_depthmap(depth, d_min=None, d_max=None):\n",
    "    if d_min is None:\n",
    "        d_min = np.min(depth)\n",
    "    if d_max is None:\n",
    "        d_max = np.max(depth)\n",
    "    depth_relative = (depth - d_min) / (d_max - d_min)\n",
    "    return 255 * cmap(depth_relative)[:,:,:3] # H, W, C\n",
    "\n"
   ]
  },
  {
   "cell_type": "code",
   "execution_count": 12,
   "metadata": {},
   "outputs": [],
   "source": [
    "# import cv2\n",
    "# cv2.setNumThreads(0)\n",
    "# from dpt.models import DPTDepthModel\n",
    "# test_model = DPTDepthModel(\n",
    "#             path= config['model']['model_path'],\n",
    "#             scale=0.00006016,\n",
    "#             shift=0.00579,\n",
    "#             invert=True,\n",
    "#             backbone=\"vitb_rn50_384\",\n",
    "#             non_negative=True,\n",
    "#             enable_attention_hooks=False,\n",
    "#             load_ckpt=config['model']['load_ckpt']\n",
    "        # )\n"
   ]
  },
  {
   "cell_type": "code",
   "execution_count": 10,
   "metadata": {},
   "outputs": [],
   "source": [
    "# for inp,dep in train_loader:\n",
    "#     samp_inp = inp\n",
    "#     samp_dep = dep\n",
    "#     yhat = test_model(samp_inp)\n",
    "#     yhat = torch.unsqueeze(yhat,axis=1)\n",
    "#     print(torch.max(yhat),torch.max(samp_dep))\n",
    "#     print(yhat[0,0,0,0])\n",
    "#     loss = MaskedL1Loss()\n",
    "#     loss_val = loss(yhat, samp_dep)\n",
    "#     print(loss_val)\n",
    "\n",
    "#     break"
   ]
  },
  {
   "cell_type": "code",
   "execution_count": 11,
   "metadata": {},
   "outputs": [
    {
     "name": "stderr",
     "output_type": "stream",
     "text": [
      "LOCAL_RANK: 0 - CUDA_VISIBLE_DEVICES: [0]\n",
      "/home2/shanthika_naik/miniconda3/envs/py38/lib/python3.8/site-packages/pytorch_lightning/loggers/tensorboard.py:247: UserWarning: Could not log computational graph since the `model.example_input_array` attribute is not set or `input_array` was not given\n",
      "  rank_zero_warn(\n",
      "\n",
      "  | Name     | Type          | Params\n",
      "-------------------------------------------\n",
      "0 | criteria | MaskedL1Loss  | 0     \n",
      "1 | model    | DPTDepthModel | 123 M \n",
      "-------------------------------------------\n",
      "123 M     Trainable params\n",
      "0         Non-trainable params\n",
      "123 M     Total params\n",
      "492.588   Total estimated model params size (MB)\n"
     ]
    },
    {
     "data": {
      "application/vnd.jupyter.widget-view+json": {
       "model_id": "2ba0ed13fb094e85a01944a654edddf1",
       "version_major": 2,
       "version_minor": 0
      },
      "text/plain": [
       "Training: 0it [00:00, ?it/s]"
      ]
     },
     "metadata": {},
     "output_type": "display_data"
    },
    {
     "name": "stdout",
     "output_type": "stream",
     "text": [
      "Epoch 0\n"
     ]
    },
    {
     "name": "stderr",
     "output_type": "stream",
     "text": [
      "/home2/shanthika_naik/miniconda3/envs/py38/lib/python3.8/site-packages/torch/nn/functional.py:3631: UserWarning: Default upsampling behavior when mode=bilinear is changed to align_corners=False since 0.4.0. Please specify align_corners=True if the old behavior is desired. See the documentation of nn.Upsample for details.\n",
      "  warnings.warn(\n"
     ]
    },
    {
     "data": {
      "application/vnd.jupyter.widget-view+json": {
       "model_id": "ba291ce195c74ca4b7593bf4d6d3e29d",
       "version_major": 2,
       "version_minor": 0
      },
      "text/plain": [
       "Validating: 0it [00:00, ?it/s]"
      ]
     },
     "metadata": {},
     "output_type": "display_data"
    },
    {
     "name": "stdout",
     "output_type": "stream",
     "text": [
      "--- Epoch 0 training ---\n",
      "train_loss: 3.871\n",
      "train_absrel: 0.3385\n",
      "train_mae: 0.6405\n",
      "train_delta1: 0.4995\n",
      "-------------------------\n",
      "--- Epoch 0 validation ---\n",
      "val_loss: 1.052\n",
      "val_absrel: 4.524\n",
      "val_mae: 10.92\n",
      "val_delta1: 1.0\n",
      "-------------------------\n",
      "Epoch 1\n"
     ]
    },
    {
     "data": {
      "application/vnd.jupyter.widget-view+json": {
       "model_id": "daaa22fb7fde4c9fadbe9186f1bb8d62",
       "version_major": 2,
       "version_minor": 0
      },
      "text/plain": [
       "Validating: 0it [00:00, ?it/s]"
      ]
     },
     "metadata": {},
     "output_type": "display_data"
    },
    {
     "name": "stdout",
     "output_type": "stream",
     "text": [
      "--- Epoch 1 training ---\n",
      "train_loss: 0.8086\n",
      "train_absrel: 0.3054\n",
      "train_mae: 0.5782\n",
      "train_delta1: 0.554\n",
      "-------------------------\n",
      "--- Epoch 1 validation ---\n",
      "val_loss: 1.226\n",
      "val_absrel: 0.3478\n",
      "val_mae: 1.064\n",
      "val_delta1: 0.2876\n",
      "-------------------------\n",
      "Training completed in 0:11:03.880000\n",
      "Training checkpoints and logs are saved in /ssd_scratch/cvit/shan/logs/finetune/version_3\n",
      "Final trained weights saved in model.pt\n"
     ]
    }
   ],
   "source": [
    "cv2.setNumThreads(0)\n",
    "\n",
    "start = time.time()\n",
    "trainer.fit(model, \n",
    "            train_dataloaders=train_loader,\n",
    "            val_dataloaders=val_loader)\n",
    "\n",
    "\n",
    "print(f'Training completed in {timedelta(seconds=round(time.time()-start,2))}')\n",
    "print(f'Training checkpoints and logs are saved in {trainer.log_dir}')\n"
   ]
  },
  {
   "cell_type": "code",
   "execution_count": null,
   "metadata": {},
   "outputs": [],
   "source": []
  }
 ],
 "metadata": {
  "interpreter": {
   "hash": "e9a96c37a5d61cb2bd1d531335bce2929fe378468789f6ea61c96a32e3dde62c"
  },
  "kernelspec": {
   "display_name": "Python 3.8.12 64-bit ('py38': conda)",
   "language": "python",
   "name": "python3"
  },
  "language_info": {
   "codemirror_mode": {
    "name": "ipython",
    "version": 3
   },
   "file_extension": ".py",
   "mimetype": "text/x-python",
   "name": "python",
   "nbconvert_exporter": "python",
   "pygments_lexer": "ipython3",
   "version": "3.8.12"
  },
  "orig_nbformat": 4
 },
 "nbformat": 4,
 "nbformat_minor": 2
}
